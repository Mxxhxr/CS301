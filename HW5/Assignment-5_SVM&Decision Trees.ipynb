{
 "cells": [
  {
   "cell_type": "markdown",
   "id": "5137b81b",
   "metadata": {},
   "source": [
    "# Assignment 5\n",
    "The objective of this assignment is to implement SVM and Decision tree algorithms from scratch and to understand their functionalities through practical implementation.\n"
   ]
  },
  {
   "cell_type": "markdown",
   "id": "2ed7434e",
   "metadata": {},
   "source": [
    "# Implementation of SVM  (50 Points)"
   ]
  },
  {
   "cell_type": "markdown",
   "id": "9fa29e19",
   "metadata": {},
   "source": [
    "## Task 1: Load the Breast Cancer Wisconsin dataset and split it into training and testing sets.  (10 points)\n",
    "In this task, you will implement Support Vector Machines (SVM) on a given dataset using Python and scikit-learn library.   \n",
    "\n",
    "**Dataset: Use the Breast Cancer Wisconsin (Diagnostic) dataset from scikit-learn (sklearn.datasets.load_breast_cancer) for this task.**\n",
    " ```python\n",
    "from sklearn.datasets import load_breast_cancer\n",
    " ```"
   ]
  },
  {
   "cell_type": "code",
   "execution_count": 1,
   "id": "63b191ae",
   "metadata": {},
   "outputs": [],
   "source": [
    "#your code goes here\n",
    "from sklearn.model_selection import train_test_split\n",
    "from sklearn.datasets import load_breast_cancer\n",
    "\n",
    "#load the data and split into train and test sets\n",
    "data = load_breast_cancer()\n",
    "X = data.data\n",
    "y = data.target\n",
    "\n",
    "X_train, X_test, y_train, y_test = train_test_split(X, y, test_size=0.2, random_state=42)"
   ]
  },
  {
   "cell_type": "markdown",
   "id": "5abd763b",
   "metadata": {},
   "source": [
    "  "
   ]
  },
  {
   "cell_type": "markdown",
   "id": "608e6955",
   "metadata": {},
   "source": [
    "## Task 2: Implement a linear SVM classifier on the training data. Train the model and evaluate its performance score on the testing data, also print the Coefficient and Intercept  (20 Points)"
   ]
  },
  {
   "cell_type": "code",
   "execution_count": 6,
   "id": "135f1aa3",
   "metadata": {},
   "outputs": [
    {
     "name": "stdout",
     "output_type": "stream",
     "text": [
      "Accuracy: 0.956140350877193 \n",
      "Coefficient: [[ 1.25502359e+00  9.29617595e-02 -1.44014614e-01 -6.97935836e-04\n",
      "  -2.56387420e-01 -2.80595769e-01 -6.75055375e-01 -3.99157952e-01\n",
      "  -3.42945756e-01 -4.16351018e-02 -9.79384752e-02  1.60499582e+00\n",
      "  -1.31056009e-02 -6.79864636e-02 -5.03740619e-02  6.08360519e-02\n",
      "  -7.39855111e-02 -5.20314020e-02 -5.19898162e-02  1.66864991e-02\n",
      "  -9.71381060e-02 -2.83227207e-01  1.91903395e-02 -5.57922354e-03\n",
      "  -4.66965726e-01 -9.00305592e-01 -1.72490804e+00 -6.31042061e-01\n",
      "  -1.19545791e+00 -1.24727559e-01]] \n",
      "Intercept: [7.76577504]\n"
     ]
    }
   ],
   "source": [
    "#your code goes here\n",
    "from sklearn.svm import SVC\n",
    "from sklearn.metrics import accuracy_score\n",
    "\n",
    "#create the svm classifier with linear kernel\n",
    "clf = SVC(kernel='linear') #didnt specify random state (do we need it)\n",
    "clf.fit(X_train, y_train)\n",
    "\n",
    "#train and make predictions\n",
    "clf.fit(X_train, y_train)\n",
    "y_pred = clf.predict(X_test)    \n",
    "\n",
    "acc = accuracy_score(y_test, y_pred)\n",
    "\n",
    "print(\"Accuracy:\", acc, \"\\nCoefficient:\", clf.coef_, \"\\nIntercept:\", clf.intercept_)\n"
   ]
  },
  {
   "cell_type": "markdown",
   "id": "469022c4",
   "metadata": {},
   "source": [
    "   "
   ]
  },
  {
   "cell_type": "markdown",
   "id": "f244b850",
   "metadata": {},
   "source": [
    "## Task 3: Implement a non-linear SVM classifier (using an appropriate kernel) on the same dataset. Train the model and evaluate its performance (20 points)"
   ]
  },
  {
   "cell_type": "code",
   "execution_count": 8,
   "id": "cf9aed14",
   "metadata": {},
   "outputs": [
    {
     "name": "stdout",
     "output_type": "stream",
     "text": [
      "Accuracy: 0.9473684210526315\n"
     ]
    }
   ],
   "source": [
    "#your code goes here\n",
    "\n",
    "#create the sbm classifier with rbf kernel\n",
    "clf_rbf = SVC(kernel='rbf', random_state=42)\n",
    "\n",
    "#train and make predictions\n",
    "clf_rbf.fit(X_train, y_train)\n",
    "y_pred_rbf = clf_rbf.predict(X_test)\n",
    "\n",
    "acc_rbf = accuracy_score(y_test, y_pred_rbf)\n",
    "\n",
    "print(\"Accuracy:\", acc_rbf)\n"
   ]
  },
  {
   "cell_type": "markdown",
   "id": "8d92100d",
   "metadata": {},
   "source": [
    "  "
   ]
  },
  {
   "cell_type": "markdown",
   "id": "e8923373",
   "metadata": {},
   "source": [
    "# Decision Trees  (50 Points)"
   ]
  },
  {
   "cell_type": "markdown",
   "id": "e45f1d00",
   "metadata": {},
   "source": [
    "## Task 1:  Load the California Housing dataset and split it into training and testing sets.  (10 points)\n",
    "In this task, you will implement RandomForestRegreesor on a given dataset using Python and scikit-learn library.   \n",
    "\n",
    " ```python\n",
    "from sklearn.datasets import fetch_california_housing\n",
    "from sklearn.ensemble import RandomForestRegressor\n",
    "```\n",
    "You have to use Random forest Regression as dataset is complex and did not perform well with Decision Tree regression."
   ]
  },
  {
   "cell_type": "code",
   "execution_count": 16,
   "id": "c81e7e2b",
   "metadata": {},
   "outputs": [],
   "source": [
    "#your code goes here\n",
    "from sklearn.datasets import fetch_california_housing\n",
    "from sklearn.ensemble import RandomForestRegressor\n",
    "from sklearn.metrics import mean_squared_error, r2_score\n",
    "\n",
    "\n",
    "data = fetch_california_housing()\n",
    "X = data.data\n",
    "y = data.target\n",
    "\n",
    "X_train, X_test, y_train, y_test = train_test_split(X, y, test_size=0.2, random_state=42)\n",
    "\n"
   ]
  },
  {
   "cell_type": "markdown",
   "id": "5523a287",
   "metadata": {},
   "source": [
    "  "
   ]
  },
  {
   "cell_type": "markdown",
   "id": "d1234885",
   "metadata": {},
   "source": [
    "## Task 2: Task: Implement a Random Forest Regression model (20 Points)\n",
    " ```python\n",
    " RandomForestRegressor(n_estimators=100, random_state=42)\n",
    "```"
   ]
  },
  {
   "cell_type": "code",
   "execution_count": 17,
   "id": "44d20ff4",
   "metadata": {},
   "outputs": [
    {
     "data": {
      "text/html": [
       "<style>#sk-container-id-1 {color: black;}#sk-container-id-1 pre{padding: 0;}#sk-container-id-1 div.sk-toggleable {background-color: white;}#sk-container-id-1 label.sk-toggleable__label {cursor: pointer;display: block;width: 100%;margin-bottom: 0;padding: 0.3em;box-sizing: border-box;text-align: center;}#sk-container-id-1 label.sk-toggleable__label-arrow:before {content: \"▸\";float: left;margin-right: 0.25em;color: #696969;}#sk-container-id-1 label.sk-toggleable__label-arrow:hover:before {color: black;}#sk-container-id-1 div.sk-estimator:hover label.sk-toggleable__label-arrow:before {color: black;}#sk-container-id-1 div.sk-toggleable__content {max-height: 0;max-width: 0;overflow: hidden;text-align: left;background-color: #f0f8ff;}#sk-container-id-1 div.sk-toggleable__content pre {margin: 0.2em;color: black;border-radius: 0.25em;background-color: #f0f8ff;}#sk-container-id-1 input.sk-toggleable__control:checked~div.sk-toggleable__content {max-height: 200px;max-width: 100%;overflow: auto;}#sk-container-id-1 input.sk-toggleable__control:checked~label.sk-toggleable__label-arrow:before {content: \"▾\";}#sk-container-id-1 div.sk-estimator input.sk-toggleable__control:checked~label.sk-toggleable__label {background-color: #d4ebff;}#sk-container-id-1 div.sk-label input.sk-toggleable__control:checked~label.sk-toggleable__label {background-color: #d4ebff;}#sk-container-id-1 input.sk-hidden--visually {border: 0;clip: rect(1px 1px 1px 1px);clip: rect(1px, 1px, 1px, 1px);height: 1px;margin: -1px;overflow: hidden;padding: 0;position: absolute;width: 1px;}#sk-container-id-1 div.sk-estimator {font-family: monospace;background-color: #f0f8ff;border: 1px dotted black;border-radius: 0.25em;box-sizing: border-box;margin-bottom: 0.5em;}#sk-container-id-1 div.sk-estimator:hover {background-color: #d4ebff;}#sk-container-id-1 div.sk-parallel-item::after {content: \"\";width: 100%;border-bottom: 1px solid gray;flex-grow: 1;}#sk-container-id-1 div.sk-label:hover label.sk-toggleable__label {background-color: #d4ebff;}#sk-container-id-1 div.sk-serial::before {content: \"\";position: absolute;border-left: 1px solid gray;box-sizing: border-box;top: 0;bottom: 0;left: 50%;z-index: 0;}#sk-container-id-1 div.sk-serial {display: flex;flex-direction: column;align-items: center;background-color: white;padding-right: 0.2em;padding-left: 0.2em;position: relative;}#sk-container-id-1 div.sk-item {position: relative;z-index: 1;}#sk-container-id-1 div.sk-parallel {display: flex;align-items: stretch;justify-content: center;background-color: white;position: relative;}#sk-container-id-1 div.sk-item::before, #sk-container-id-1 div.sk-parallel-item::before {content: \"\";position: absolute;border-left: 1px solid gray;box-sizing: border-box;top: 0;bottom: 0;left: 50%;z-index: -1;}#sk-container-id-1 div.sk-parallel-item {display: flex;flex-direction: column;z-index: 1;position: relative;background-color: white;}#sk-container-id-1 div.sk-parallel-item:first-child::after {align-self: flex-end;width: 50%;}#sk-container-id-1 div.sk-parallel-item:last-child::after {align-self: flex-start;width: 50%;}#sk-container-id-1 div.sk-parallel-item:only-child::after {width: 0;}#sk-container-id-1 div.sk-dashed-wrapped {border: 1px dashed gray;margin: 0 0.4em 0.5em 0.4em;box-sizing: border-box;padding-bottom: 0.4em;background-color: white;}#sk-container-id-1 div.sk-label label {font-family: monospace;font-weight: bold;display: inline-block;line-height: 1.2em;}#sk-container-id-1 div.sk-label-container {text-align: center;}#sk-container-id-1 div.sk-container {/* jupyter's `normalize.less` sets `[hidden] { display: none; }` but bootstrap.min.css set `[hidden] { display: none !important; }` so we also need the `!important` here to be able to override the default hidden behavior on the sphinx rendered scikit-learn.org. See: https://github.com/scikit-learn/scikit-learn/issues/21755 */display: inline-block !important;position: relative;}#sk-container-id-1 div.sk-text-repr-fallback {display: none;}</style><div id=\"sk-container-id-1\" class=\"sk-top-container\"><div class=\"sk-text-repr-fallback\"><pre>RandomForestRegressor(random_state=42)</pre><b>In a Jupyter environment, please rerun this cell to show the HTML representation or trust the notebook. <br />On GitHub, the HTML representation is unable to render, please try loading this page with nbviewer.org.</b></div><div class=\"sk-container\" hidden><div class=\"sk-item\"><div class=\"sk-estimator sk-toggleable\"><input class=\"sk-toggleable__control sk-hidden--visually\" id=\"sk-estimator-id-1\" type=\"checkbox\" checked><label for=\"sk-estimator-id-1\" class=\"sk-toggleable__label sk-toggleable__label-arrow\">RandomForestRegressor</label><div class=\"sk-toggleable__content\"><pre>RandomForestRegressor(random_state=42)</pre></div></div></div></div></div>"
      ],
      "text/plain": [
       "RandomForestRegressor(random_state=42)"
      ]
     },
     "execution_count": 17,
     "metadata": {},
     "output_type": "execute_result"
    }
   ],
   "source": [
    "#your code goes here\n",
    "\n",
    "#creat the random forest regressor\n",
    "r_Forest = RandomForestRegressor(n_estimators=100, random_state=42)\n",
    "\n",
    "#train\n",
    "r_Forest.fit(X_train, y_train)\n"
   ]
  },
  {
   "cell_type": "markdown",
   "id": "71b840b5",
   "metadata": {},
   "source": [
    "   "
   ]
  },
  {
   "cell_type": "markdown",
   "id": "755cd0a2",
   "metadata": {},
   "source": [
    "## Task 3: Make prediction and evaluate the performance of Random Forest Regression model (20 Points)\n",
    "\n",
    "Use MSE and r2-score for evaluating performance."
   ]
  },
  {
   "cell_type": "code",
   "execution_count": 20,
   "id": "0f37929e",
   "metadata": {},
   "outputs": [
    {
     "name": "stdout",
     "output_type": "stream",
     "text": [
      "Mean Squared Error: 0.2553684927247781 \n",
      "R2 Score: 0.8051230593157366\n"
     ]
    }
   ],
   "source": [
    "#your code goes here\n",
    "\n",
    "#make predictions and calculate the mean squared error and r2 score\n",
    "y_pred = r_Forest.predict(X_test)\n",
    "mse = mean_squared_error(y_test, y_pred)\n",
    "r2 = r2_score(y_test, y_pred)\n",
    "\n",
    "print(\"Mean Squared Error:\", mse, \"\\nR2 Score:\", r2)\n",
    "\n",
    "\n"
   ]
  },
  {
   "cell_type": "code",
   "execution_count": null,
   "id": "127f3df8",
   "metadata": {},
   "outputs": [],
   "source": []
  }
 ],
 "metadata": {
  "kernelspec": {
   "display_name": "Python 3 (ipykernel)",
   "language": "python",
   "name": "python3"
  },
  "language_info": {
   "codemirror_mode": {
    "name": "ipython",
    "version": 3
   },
   "file_extension": ".py",
   "mimetype": "text/x-python",
   "name": "python",
   "nbconvert_exporter": "python",
   "pygments_lexer": "ipython3",
   "version": "3.11.5"
  }
 },
 "nbformat": 4,
 "nbformat_minor": 5
}
