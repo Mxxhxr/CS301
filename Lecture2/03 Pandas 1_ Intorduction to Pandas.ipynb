{
 "cells": [
  {
   "cell_type": "markdown",
   "metadata": {
    "id": "GTxm9l6E8mRd"
   },
   "source": [
    "## What is Pandas?"
   ]
  },
  {
   "cell_type": "markdown",
   "metadata": {
    "id": "g3QqEKOJPgGS"
   },
   "source": [
    "Pandas is a popular open-source data manipulation and analysis library for Python. It provides data structures for efficiently storing and manipulating large datasets, along with functions for reading and writing data in different file formats. The primary data structures in pandas are:\n",
    "\n",
    "1. **Series:** One-dimensional labeled array capable of holding any data type. It is similar to a column in a spreadsheet or a single column in a DataFrame.\n",
    "\n",
    "2. **DataFrame:** A two-dimensional table with labeled axes (rows and columns). It is the primary data structure used in pandas and can be thought of as a container for Series objects.\n",
    "\n",
    "Some key features and functionalities of pandas include:\n",
    "\n",
    "- **Integration with NumPy:** Pandas is built on top of the NumPy library, which provides high-performance numerical operations. This integration allows for seamless interaction between NumPy and pandas.\n",
    "\n",
    "- **Data I/O:** Pandas supports various file formats, including CSV, Excel, SQL databases, and more, making it easy to import and export data.\n",
    "\n",
    "- **Data Exploration:** It allows for easy data exploration and manipulation, such as filtering, grouping, and aggregating data.\n",
    "\n",
    "- **Data Cleaning:** Pandas provides functions to handle missing data, duplicate values, and other common data cleaning tasks.\n",
    "\n",
    "- **Time Series Data:** It has robust support for working with time series data, making it suitable for analyzing temporal data.\n",
    "\n"
   ]
  },
  {
   "cell_type": "markdown",
   "metadata": {
    "id": "eiydvvvoEX9a"
   },
   "source": [
    "## Creating Series"
   ]
  },
  {
   "cell_type": "markdown",
   "metadata": {
    "id": "T1aZPoaCQPP9"
   },
   "source": [
    "A series is a one dimensional array-like object that contains a sequence of values with associated labels, called index. All item in a series contains the same type of data which is similar to numpy's homogenous property. While it's possible to have a mixed data type Series, keep in mind that operations on such Series might have behavior that depends on the data types involved, and it's often convenient to work with Series of homogeneous data types for consistency and predictable behavior. Here are several ways to create a Series in pandas:\n",
    "\n",
    "1. **From a List:**\n",
    "   You can create a Series from a Python list.\n",
    "\n",
    "    ```python\n",
    "    import pandas as pd\n",
    "    data_list = [1, 2, 3, 4, 5]\n",
    "    series_from_list = pd.Series(data_list)\n",
    "    ```\n",
    "\n",
    "2. **From a NumPy Array:**\n",
    "   Pandas Series can be created from a NumPy array.\n",
    "\n",
    "    ```python\n",
    "    import pandas as pd\n",
    "    import numpy as np\n",
    "    data_array = np.array([1, 2, 3, 4, 5])\n",
    "    series_from_array = pd.Series(data_array)\n",
    "    ```\n",
    "\n",
    "3. **From a Dictionary:**\n",
    "   Keys of the dictionary become the index of the Series, and values become the data.\n",
    "\n",
    "    ```python\n",
    "    import pandas as pd\n",
    "    data_dict = {'a': 1, 'b': 2, 'c': 3, 'd': 4, 'e': 5}\n",
    "    series_from_dict = pd.Series(data_dict)\n",
    "    ```\n",
    "\n",
    "**Specifying Index:**\n",
    "\n",
    "When you create a pandas Series from a list-like object, by default, it is assigned a numerical index. However, if you wish to customize the index labels for better identification, you can do so by using the `index` parameter. This parameter allows you to explicitly specify the index labels you want associated with each element in the Series.\n",
    "\n",
    "For instance, consider the following code:\n",
    "\n",
    "```python\n",
    "import pandas as pd\n",
    "\n",
    "# Sample data\n",
    "data = [10, 20, 30, 40, 50]\n",
    "\n",
    "# Default Series with numerical index\n",
    "default_series = pd.Series(data)\n",
    "\n",
    "# Creating a Series with a custom index\n",
    "custom_index = ['a', 'b', 'c', 'd', 'e']\n",
    "series_with_index = pd.Series(data, index=custom_index)\n",
    "```\n",
    "\n",
    "In the `default_series`, the default numerical index will be assigned. However, in `series_with_index`, we use the `index` parameter to specify a custom index, resulting in a Series where each element is associated with a label ('a', 'b', 'c', 'd', 'e') for easier reference and interpretation."
   ]
  },
  {
   "cell_type": "code",
   "execution_count": 18,
   "metadata": {},
   "outputs": [
    {
     "data": {
      "text/plain": [
       "a    1\n",
       "b    2\n",
       "c    3\n",
       "d    4\n",
       "e    5\n",
       "dtype: int64"
      ]
     },
     "execution_count": 18,
     "metadata": {},
     "output_type": "execute_result"
    }
   ],
   "source": [
    "import pandas as pd\n",
    "import numpy as np\n",
    "# data_array = np.array([1, 2, 3, 4, 5])\n",
    "# series_from_array = pd.Series(data_array, index = ['a','b','c','d','e'])\n",
    "# series_from_array\n",
    "data_dict = {'a': 1, 'b': 2, 'c': 3, 'd': 4, 'e': 5}\n",
    "series_from_dict = pd.Series(data_dict)\n",
    "series_from_dict\n"
   ]
  },
  {
   "cell_type": "markdown",
   "metadata": {
    "id": "i6XieFcrdTPl"
   },
   "source": [
    "## Creating DataFrame"
   ]
  },
  {
   "cell_type": "markdown",
   "metadata": {
    "id": "nLGN31DkEX9o"
   },
   "source": [
    "Pandas DataFrame is a 2 dimensional data structure with rows and columns. It is similar to a google sheet or excel file with more than one column.\n",
    "\n",
    "Here are several ways you can create a DataFrame in pandas:\n",
    "\n",
    "1. **From a Dictionary of Lists:**\n",
    "   You can create a DataFrame from a dictionary where keys are column names and values are lists.\n",
    "\n",
    "    ```python\n",
    "    import pandas as pd\n",
    "\n",
    "    data_dict = {'Name': ['Alice', 'Bob', 'Charlie'],\n",
    "                 'Age': [25, 30, 35],\n",
    "                 'City': ['New York', 'San Francisco', 'Los Angeles']}\n",
    "\n",
    "    df = pd.DataFrame(data_dict)\n",
    "    ```\n",
    "\n",
    "2. **From a List of Lists:**\n",
    "   Create a DataFrame directly from a list of lists. The inner lists represent rows.\n",
    "\n",
    "    ```python\n",
    "    import pandas as pd\n",
    "\n",
    "    data_list = [['Alice', 25, 'New York'],\n",
    "                 ['Bob', 30, 'San Francisco'],\n",
    "                 ['Charlie', 35, 'Los Angeles']]\n",
    "\n",
    "    df = pd.DataFrame(data_list, columns=['Name', 'Age', 'City'])\n",
    "    ```\n",
    "\n",
    "3. **From a List of Dictionaries:**\n",
    "   If your data is in the form of a list of dictionaries, each dictionary represents a row.\n",
    "\n",
    "    ```python\n",
    "    import pandas as pd\n",
    "\n",
    "    data_list_of_dicts = [{'Name': 'Alice', 'Age': 25, 'City': 'New York'},\n",
    "                          {'Name': 'Bob', 'Age': 30, 'City': 'San Francisco'},\n",
    "                          {'Name': 'Charlie', 'Age': 35, 'City': 'Los Angeles'}]\n",
    "\n",
    "    df = pd.DataFrame(data_list_of_dicts)\n",
    "    ```\n",
    "\n",
    "4. **From a NumPy Array:**\n",
    "   You can create a DataFrame from a NumPy array and specify column names.\n",
    "\n",
    "    ```python\n",
    "    import pandas as pd\n",
    "    import numpy as np\n",
    "\n",
    "    data_array = np.array([[1, 2, 3],\n",
    "                           [4, 5, 6],\n",
    "                           [7, 8, 9]])\n",
    "\n",
    "    df = pd.DataFrame(data_array, columns=['A', 'B', 'C'])\n",
    "    ```\n",
    "\n",
    "5. **From a CSV File:**\n",
    "   Read data from a CSV file and create a DataFrame.\n",
    "  [(Download Iris Dataset)](https://drive.google.com/file/d/1Aj55LWNHUOv4OCS4jXVHTq9m25Cvqp-a/view?usp=share_link)\n",
    "\n",
    "    ```python\n",
    "    import pandas as pd\n",
    "\n",
    "    df = pd.read_csv('iris.csv')\n",
    "    ```\n",
    "    \n",
    "6. **From a Series:**\n",
    "   You can create a DataFrame from a Series.\n",
    "    ```python\n",
    "    import pandas as pd\n",
    "\n",
    "    data_series = pd.Series([10, 20, 30, 40, 50], name='Numbers')\n",
    "\n",
    "    data_frame = pd.DataFrame(data_series)\n",
    "    ```"
   ]
  },
  {
   "cell_type": "code",
   "execution_count": 19,
   "metadata": {},
   "outputs": [
    {
     "data": {
      "text/html": [
       "<div>\n",
       "<style scoped>\n",
       "    .dataframe tbody tr th:only-of-type {\n",
       "        vertical-align: middle;\n",
       "    }\n",
       "\n",
       "    .dataframe tbody tr th {\n",
       "        vertical-align: top;\n",
       "    }\n",
       "\n",
       "    .dataframe thead th {\n",
       "        text-align: right;\n",
       "    }\n",
       "</style>\n",
       "<table border=\"1\" class=\"dataframe\">\n",
       "  <thead>\n",
       "    <tr style=\"text-align: right;\">\n",
       "      <th></th>\n",
       "      <th>Name</th>\n",
       "      <th>Age</th>\n",
       "      <th>City</th>\n",
       "    </tr>\n",
       "  </thead>\n",
       "  <tbody>\n",
       "    <tr>\n",
       "      <th>a</th>\n",
       "      <td>Alice</td>\n",
       "      <td>25</td>\n",
       "      <td>New York</td>\n",
       "    </tr>\n",
       "    <tr>\n",
       "      <th>c</th>\n",
       "      <td>Bob</td>\n",
       "      <td>30</td>\n",
       "      <td>San Francisco</td>\n",
       "    </tr>\n",
       "    <tr>\n",
       "      <th>d</th>\n",
       "      <td>Charlie</td>\n",
       "      <td>35</td>\n",
       "      <td>Los Angeles</td>\n",
       "    </tr>\n",
       "  </tbody>\n",
       "</table>\n",
       "</div>"
      ],
      "text/plain": [
       "      Name  Age           City\n",
       "a    Alice   25       New York\n",
       "c      Bob   30  San Francisco\n",
       "d  Charlie   35    Los Angeles"
      ]
     },
     "execution_count": 19,
     "metadata": {},
     "output_type": "execute_result"
    }
   ],
   "source": [
    "import pandas as pd\n",
    "\n",
    "data_list_of_dicts = [{'Name': 'Alice', 'Age': 25, 'City': 'New York'},\n",
    "                      {'Name': 'Bob', 'Age': 30, 'City': 'San Francisco'},\n",
    "                      {'Name': 'Charlie', 'Age': 35, 'City': 'Los Angeles'}]\n",
    "\n",
    "df = pd.DataFrame(data_list_of_dicts, index = ['a','c','d'])\n",
    "df"
   ]
  },
  {
   "cell_type": "markdown",
   "metadata": {
    "id": "uMvw4DMRd2iG"
   },
   "source": [
    "## Accessing Items of a Series"
   ]
  },
  {
   "cell_type": "markdown",
   "metadata": {
    "id": "FHTWOR6dY9Am"
   },
   "source": [
    "1. **Accessing by Index:** You can access elements in a Series using the index label.\n",
    "\n",
    "   ```python\n",
    "   import pandas as pd\n",
    "   series = pd.Series([10, 20, 30], index=['a', 'b', 'c'])\n",
    "   item_a = series['a']\n",
    "   ```\n",
    "\n",
    "2. **Accessing by Position (Integer Indexing):** You can retrieve elements by their integer positions using `iloc`, which functions similarly to selecting items based on their index positions in a Python list.\n",
    "\n",
    "   ```python\n",
    "   # Accessing by integer position\n",
    "   item_0 = series.iloc[0]\n",
    "   ```\n",
    "\n",
    "3. **Slicing:** You can use slicing to select multiple items based on their positions.\n",
    "\n",
    "   ```python\n",
    "   # Slicing by integer positions\n",
    "   sliced_series = series[1:3]\n",
    "   ```\n",
    "\n",
    "4. **Boolean Indexing:** You can use boolean indexing to select items based on a condition.\n",
    "\n",
    "   ```python\n",
    "   # Boolean indexing\n",
    "   condition = series > 15\n",
    "   filtered_series = series[condition]\n",
    "   ```\n",
    "\n",
    "5. **Fancy Indexing:** You can use a list of labels or positions for selection.\n",
    "\n",
    "   ```python\n",
    "   # Fancy indexing\n",
    "   items = series[['a', 'c']]\n",
    "   ```"
   ]
  },
  {
   "cell_type": "code",
   "execution_count": 26,
   "metadata": {},
   "outputs": [
    {
     "name": "stdout",
     "output_type": "stream",
     "text": [
      "20\n"
     ]
    }
   ],
   "source": [
    "import pandas as pd\n",
    "series = pd.Series([10, 20, 30], index=['a', 'b', 'c'])\n",
    "item_a = series.loc['b']\n",
    "print(item_a)"
   ]
  },
  {
   "cell_type": "markdown",
   "metadata": {
    "id": "x3VubZzDRH2c"
   },
   "source": [
    "## Accessing Columns of a Dataframe:"
   ]
  },
  {
   "cell_type": "markdown",
   "metadata": {
    "id": "GcHy_DmyZQiP"
   },
   "source": [
    "1. **Using Bracket Notation:**\n",
    "   ```python\n",
    "   # Selecting a single column\n",
    "   column_data = df['column_name']\n",
    "   # Selecting multiple columns\n",
    "   selected_columns = df[['column_name1', 'column_name2']]\n",
    "   ```\n",
    "\n",
    "2. **Using Dot Notation (if column names are valid Python identifiers):**\n",
    "   ```python\n",
    "   # Selecting a single column\n",
    "   column_data = df.column_name\n",
    "   # Note: This method is not suitable if column names have spaces or special characters.\n",
    "   ```\n",
    "\n",
    "3. **Filtering Columns by Name:**\n",
    "   ```python\n",
    "   # Selecting columns with names containing a substring\n",
    "   selected_columns = df.filter(like='partial_column_name')\n",
    "   ```\n",
    "\n",
    "4. **Selecting Columns by Data Type:**\n",
    "   ```python\n",
    "   # Selecting columns of a specific data type (e.g., numerical columns)\n",
    "   selected_columns = df.select_dtypes(include='number')\n",
    "\n",
    "   # Select Object Data Types (e.g., strings):\n",
    "   object_columns = df.select_dtypes(include='object')\n",
    "\n",
    "   # Select Multiple Data Types\n",
    "   numeric_and_object_columns = df.select_dtypes(include=['number', 'object'])\n",
    "    \n",
    "   # Exclude Specific Data Types:\n",
    "   non_numeric_columns = df.select_dtypes(exclude='number')\n",
    "\n",
    "   ```\n"
   ]
  },
  {
   "cell_type": "code",
   "execution_count": 21,
   "metadata": {},
   "outputs": [
    {
     "data": {
      "text/html": [
       "<div>\n",
       "<style scoped>\n",
       "    .dataframe tbody tr th:only-of-type {\n",
       "        vertical-align: middle;\n",
       "    }\n",
       "\n",
       "    .dataframe tbody tr th {\n",
       "        vertical-align: top;\n",
       "    }\n",
       "\n",
       "    .dataframe thead th {\n",
       "        text-align: right;\n",
       "    }\n",
       "</style>\n",
       "<table border=\"1\" class=\"dataframe\">\n",
       "  <thead>\n",
       "    <tr style=\"text-align: right;\">\n",
       "      <th></th>\n",
       "      <th>Name</th>\n",
       "      <th>City</th>\n",
       "    </tr>\n",
       "  </thead>\n",
       "  <tbody>\n",
       "    <tr>\n",
       "      <th>a</th>\n",
       "      <td>Alice</td>\n",
       "      <td>New York</td>\n",
       "    </tr>\n",
       "    <tr>\n",
       "      <th>c</th>\n",
       "      <td>Bob</td>\n",
       "      <td>San Francisco</td>\n",
       "    </tr>\n",
       "    <tr>\n",
       "      <th>d</th>\n",
       "      <td>Charlie</td>\n",
       "      <td>Los Angeles</td>\n",
       "    </tr>\n",
       "  </tbody>\n",
       "</table>\n",
       "</div>"
      ],
      "text/plain": [
       "      Name           City\n",
       "a    Alice       New York\n",
       "c      Bob  San Francisco\n",
       "d  Charlie    Los Angeles"
      ]
     },
     "execution_count": 21,
     "metadata": {},
     "output_type": "execute_result"
    }
   ],
   "source": [
    "selected_columns = df.select_dtypes(include='object')\n",
    "selected_columns"
   ]
  },
  {
   "cell_type": "markdown",
   "metadata": {
    "id": "Txl0snkpnq44"
   },
   "source": [
    "## Accessing Rows of a Dataframe"
   ]
  },
  {
   "cell_type": "markdown",
   "metadata": {
    "id": "T9v39KkVm5aT"
   },
   "source": [
    "   - **Integer Indexing (`iloc`):** Select a specific item by providing integer positions.\n",
    "     ```python\n",
    "     # Selecting a single row by index\n",
    "     row = df.iloc[2]\n",
    "\n",
    "     # Selecting multiple rows by index\n",
    "     rows = df.iloc[2:5]  # selects rows 2 through 4\n",
    "     ```\n",
    "\n",
    "   - **Label Indexing (`loc`):** Select a specific item by providing row label.\n",
    "     ```python\n",
    "     # Selecting a single row by label\n",
    "     row = df.loc['row_label']\n",
    "\n",
    "     # Selecting multiple rows by label\n",
    "     rows = df.loc['row_label_1':'row_label_3']\n",
    "     ```\n",
    "\n",
    "   - **Conditional Selection:** Select items that satisfy a condition.\n",
    "     ```python\n",
    "     # Selecting rows based on a condition\n",
    "     condition = df['column_name'] > 50\n",
    "     selected_rows = df[condition]\n",
    "     ```\n",
    "\n",
    "     You can combine conditions using logical operators like `&` (and), `|` (or), and `~` (not).\n",
    "\n",
    "   - **Using the `query` Method:**\n",
    "     ```python\n",
    "     # Selecting rows using a query string\n",
    "     selected_rows = df.query('column_name > 50')\n",
    "     ```\n",
    "\n",
    "   - **Selecting Rows with Specific Values of a column:**\n",
    "     ```python\n",
    "     # Selecting rows in a DataFrame based on whether the values in a particular column ('column_name') are present in a list (['value1', 'value2']).\n",
    "     selected_rows = df[df['column_name'].isin(['value1', 'value2'])]\n",
    "     ```"
   ]
  },
  {
   "cell_type": "code",
   "execution_count": 55,
   "metadata": {
    "colab": {
     "base_uri": "https://localhost:8080/",
     "height": 206
    },
    "executionInfo": {
     "elapsed": 191,
     "status": "ok",
     "timestamp": 1703754852058,
     "user": {
      "displayName": "Akm Islam",
      "userId": "10887598172150809320"
     },
     "user_tz": 300
    },
    "id": "QJKg8E8mnTVF",
    "outputId": "87f7f987-736c-4042-8eae-9b0df85317f9"
   },
   "outputs": [
    {
     "name": "stdout",
     "output_type": "stream",
     "text": [
      "        Name  Age  Color        City\n",
      "Me    Maahir   21  Brown  Bridgeport\n",
      "Elmo    Elmo    7  White     Beverly\n"
     ]
    }
   ],
   "source": [
    "import pandas as pd\n",
    "\n",
    "data = {\n",
    "    'Name': ['Maahir', 'Bingus', 'Elmo'],\n",
    "    'Age': [21, 2, 7],\n",
    "    'Color': ['Brown', 'Mocha', 'White'],\n",
    "    'City': ['Bridgeport', 'Dumpster', 'Beverly']\n",
    "}\n",
    "\n",
    "df = pd.DataFrame(data, index=['Me', 'Bingo', 'Elmo'])\n",
    "\n",
    "row = (df['Age'] > 15) & (df['Name'] =='Maahir')\n",
    "selected_rows = df[row] \n",
    "\n",
    "selected_rows = df[df['Age'].isin([7, 21])]\n",
    "print(selected_rows)\n",
    "# print(df)\n",
    "\n",
    "\n",
    "\n"
   ]
  },
  {
   "cell_type": "code",
   "execution_count": null,
   "metadata": {
    "id": "v_RK41Tptjzd"
   },
   "outputs": [],
   "source": []
  },
  {
   "cell_type": "markdown",
   "metadata": {
    "id": "oWacUtWiSP5A"
   },
   "source": [
    "## Accesing Rows and Columns"
   ]
  },
  {
   "cell_type": "markdown",
   "metadata": {
    "id": "TFC8nG4PSnHj"
   },
   "source": [
    "1. **Using `loc` with Row and Column Labels:** Select specific rows and columns by providing labels.\n",
    "\n",
    "    ```python\n",
    "    import pandas as pd\n",
    "\n",
    "    # Assuming 'df' is your DataFrame\n",
    "    selected_data = df.loc[['row1', 'row2'], ['col1', 'col2']]\n",
    "    ```\n",
    "\n",
    "2. **Using `iloc` with Integer Positions:** Select specific rows and columns by providing integer positions.\n",
    "\n",
    "    ```python\n",
    "    import pandas as pd\n",
    "\n",
    "    # Assuming 'df' is your DataFrame\n",
    "    selected_data = df.iloc[[0, 1], [0, 1]]\n",
    "    ```\n",
    "   Here, replace 0, 1 with the actual integer positions of rows and columns you want to select.\n",
    "\n",
    "3. **Selecting a Range of Rows and Columns:** You can also use slices with `loc` and `iloc` to select ranges of rows and columns.\n",
    "\n",
    "    ```python\n",
    "    import pandas as pd\n",
    "\n",
    "    # Using loc\n",
    "    selected_data_loc = df.loc['start_row':'end_row', 'start_col':'end_col']\n",
    "\n",
    "    # Using iloc\n",
    "    selected_data_iloc = df.iloc[start_row_position:end_row_position, start_col_position:end_col_position]\n",
    "    ```"
   ]
  },
  {
   "cell_type": "markdown",
   "metadata": {},
   "source": [
    "## Modifying content of series and DataFrame"
   ]
  },
  {
   "cell_type": "markdown",
   "metadata": {},
   "source": [
    "DataFrames, Series are mutable objects, and you can perform various operations to modify their values. \n",
    "1. **Modifying Series:**\n",
    "```python\n",
    "import pandas as pd\n",
    "\n",
    "# Creating a Series\n",
    "series = pd.Series([10, 20, 30, 40])\n",
    "\n",
    "# Modifying a specific value\n",
    "series.at[1] = 25\n",
    "print(series)\n",
    "\n",
    "```\n",
    "\n",
    "\n",
    "\n",
    "If you want to append new values to series:\n",
    "```python\n",
    "# Appending a new value\n",
    "series = series.append(pd.Series([50]))\n",
    "print(series)\n",
    "```\n",
    "\n",
    "\n",
    "2. **Modifying DataFrame:**\n",
    "\n",
    "In case of DataFrame to modify certain value, need to provide index of it\n",
    "```python\n",
    "import pandas as pd\n",
    "\n",
    "# Creating a DataFrame\n",
    "data = {'Name': ['Alice', 'Bob', 'Charlie'],\n",
    "        'Age': [25, 30, 35],\n",
    "        'City': ['New York', 'San Francisco', 'Los Angeles']}\n",
    "\n",
    "df = pd.DataFrame(data)\n",
    "\n",
    "# Modifying a specific value\n",
    "df.at[1, 'Age'] = 31\n",
    "\n",
    "print(df)\n",
    "```\n",
    "\n",
    "In case of adding a new column:\n",
    "\n",
    "```python\n",
    "# Adding a new column\n",
    "df['Salary'] = [50000, 60000, 70000]\n",
    "\n",
    "print(df)\n",
    "```\n",
    "\n",
    "Dropping Rows or Columns:\n",
    "```python\n",
    "# Dropping a specific row\n",
    "df = df.drop(0)\n",
    "\n",
    "# Dropping a specific column\n",
    "df = df.drop('City', axis=1)\n",
    "\n",
    "print(df)\n",
    "\n",
    "```\n",
    "\n",
    "\n"
   ]
  }
 ],
 "metadata": {
  "colab": {
   "collapsed_sections": [
    "GTxm9l6E8mRd",
    "eiydvvvoEX9a",
    "i6XieFcrdTPl",
    "uMvw4DMRd2iG",
    "x3VubZzDRH2c",
    "Txl0snkpnq44",
    "oWacUtWiSP5A"
   ],
   "provenance": []
  },
  "kernelspec": {
   "display_name": "Python 3 (ipykernel)",
   "language": "python",
   "name": "python3"
  },
  "language_info": {
   "codemirror_mode": {
    "name": "ipython",
    "version": 3
   },
   "file_extension": ".py",
   "mimetype": "text/x-python",
   "name": "python",
   "nbconvert_exporter": "python",
   "pygments_lexer": "ipython3",
   "version": "3.11.5"
  }
 },
 "nbformat": 4,
 "nbformat_minor": 1
}
