{
 "cells": [
  {
   "cell_type": "markdown",
   "id": "c48e30df",
   "metadata": {},
   "source": [
    "# Assignment 4\n",
    "The objective of this assignment is to implement Perceptron and Logistic Regression algorithms from scratch and to understand their functionalities through practical implementation.\n",
    "\n",
    "\n"
   ]
  },
  {
   "cell_type": "markdown",
   "id": "4a38cfdd",
   "metadata": {},
   "source": [
    "  "
   ]
  },
  {
   "cell_type": "markdown",
   "id": "efa62c6c",
   "metadata": {},
   "source": [
    "## Task 1 : Implementing Perceptron (30 points)\n",
    "\n",
    "\n",
    "**1. Create a simple dataset like this to train and test the Perceptron**\n",
    " ```python\n",
    "from sklearn.datasets import make_classification\n",
    "\n",
    "# Generate linearly separable dataset\n",
    "X, y = make_classification(n_samples=100, n_features=2, n_informative=2, n_redundant=0,\n",
    "                           n_clusters_per_class=1, class_sep=2.0, random_state=42)\n",
    "\n",
    " ```\n",
    " \n",
    "**2. Implement functions for training and predicting using the Perceptron.**\n",
    "\n",
    "**3. Display the decision boundary of the trained Perceptron.** *for displaying boundary you can use plot_decision_regions() function from the notebook*"
   ]
  },
  {
   "cell_type": "markdown",
   "id": "b97a2c1c",
   "metadata": {},
   "source": [
    "  "
   ]
  },
  {
   "cell_type": "code",
   "execution_count": 27,
   "id": "54c7a991",
   "metadata": {},
   "outputs": [
    {
     "ename": "ValueError",
     "evalue": "shapes (1,4) and (3,) not aligned: 4 (dim 1) != 3 (dim 0)",
     "output_type": "error",
     "traceback": [
      "\u001b[1;31m---------------------------------------------------------------------------\u001b[0m",
      "\u001b[1;31mValueError\u001b[0m                                Traceback (most recent call last)",
      "Cell \u001b[1;32mIn[27], line 53\u001b[0m\n\u001b[0;32m     50\u001b[0m X_train, X_test, y_train, y_test \u001b[38;5;241m=\u001b[39m train_test_split(X, y, test_size\u001b[38;5;241m=\u001b[39m\u001b[38;5;241m0.3\u001b[39m, random_state\u001b[38;5;241m=\u001b[39m\u001b[38;5;241m42\u001b[39m)\n\u001b[0;32m     52\u001b[0m \u001b[38;5;66;03m# Step 2: Train the perceptron model\u001b[39;00m\n\u001b[1;32m---> 53\u001b[0m weights \u001b[38;5;241m=\u001b[39m \u001b[43mtrain_perceptron\u001b[49m\u001b[43m(\u001b[49m\u001b[43mX_train\u001b[49m\u001b[43m,\u001b[49m\u001b[43m \u001b[49m\u001b[43my_train\u001b[49m\u001b[43m,\u001b[49m\u001b[43m \u001b[49m\u001b[43mlearning_rate\u001b[49m\u001b[38;5;241;43m=\u001b[39;49m\u001b[38;5;241;43m0.01\u001b[39;49m\u001b[43m,\u001b[49m\u001b[43m \u001b[49m\u001b[43mn_iters\u001b[49m\u001b[38;5;241;43m=\u001b[39;49m\u001b[38;5;241;43m1000\u001b[39;49m\u001b[43m)\u001b[49m\n\u001b[0;32m     55\u001b[0m \u001b[38;5;66;03m# Step 3: Create a PerceptronClassifier instance with the trained weights\u001b[39;00m\n\u001b[0;32m     56\u001b[0m perceptron_classifier \u001b[38;5;241m=\u001b[39m PerceptronClassifier(weights)\n",
      "Cell \u001b[1;32mIn[27], line 40\u001b[0m, in \u001b[0;36mtrain_perceptron\u001b[1;34m(X, y, learning_rate, n_iters)\u001b[0m\n\u001b[0;32m     38\u001b[0m x_i \u001b[38;5;241m=\u001b[39m np\u001b[38;5;241m.\u001b[39minsert(x_i, \u001b[38;5;241m0\u001b[39m, \u001b[38;5;241m1\u001b[39m)\n\u001b[0;32m     39\u001b[0m linear_output \u001b[38;5;241m=\u001b[39m np\u001b[38;5;241m.\u001b[39mdot(x_i, weights)\n\u001b[1;32m---> 40\u001b[0m y_predicted \u001b[38;5;241m=\u001b[39m \u001b[43mpredict\u001b[49m\u001b[43m(\u001b[49m\u001b[43mx_i\u001b[49m\u001b[43m,\u001b[49m\u001b[43m \u001b[49m\u001b[43mweights\u001b[49m\u001b[43m)\u001b[49m\n\u001b[0;32m     41\u001b[0m update \u001b[38;5;241m=\u001b[39m learning_rate \u001b[38;5;241m*\u001b[39m (y[idx] \u001b[38;5;241m-\u001b[39m y_predicted)\n\u001b[0;32m     42\u001b[0m weights \u001b[38;5;241m+\u001b[39m\u001b[38;5;241m=\u001b[39m update \u001b[38;5;241m*\u001b[39m x_i\n",
      "Cell \u001b[1;32mIn[27], line 27\u001b[0m, in \u001b[0;36mpredict\u001b[1;34m(X, weights)\u001b[0m\n\u001b[0;32m     25\u001b[0m \u001b[38;5;66;03m# Add a bias term at the beginning\u001b[39;00m\n\u001b[0;32m     26\u001b[0m X \u001b[38;5;241m=\u001b[39m np\u001b[38;5;241m.\u001b[39minsert(X, \u001b[38;5;241m0\u001b[39m, \u001b[38;5;241m1\u001b[39m, axis\u001b[38;5;241m=\u001b[39m\u001b[38;5;241m1\u001b[39m)\n\u001b[1;32m---> 27\u001b[0m linear_output \u001b[38;5;241m=\u001b[39m \u001b[43mnp\u001b[49m\u001b[38;5;241;43m.\u001b[39;49m\u001b[43mdot\u001b[49m\u001b[43m(\u001b[49m\u001b[43mX\u001b[49m\u001b[43m,\u001b[49m\u001b[43m \u001b[49m\u001b[43mweights\u001b[49m\u001b[43m)\u001b[49m\n\u001b[0;32m     28\u001b[0m y_predicted \u001b[38;5;241m=\u001b[39m np\u001b[38;5;241m.\u001b[39mwhere(linear_output \u001b[38;5;241m>\u001b[39m\u001b[38;5;241m=\u001b[39m \u001b[38;5;241m0\u001b[39m, \u001b[38;5;241m1\u001b[39m, \u001b[38;5;241m0\u001b[39m)\n\u001b[0;32m     29\u001b[0m \u001b[38;5;28;01mreturn\u001b[39;00m y_predicted\n",
      "\u001b[1;31mValueError\u001b[0m: shapes (1,4) and (3,) not aligned: 4 (dim 1) != 3 (dim 0)"
     ]
    }
   ],
   "source": [
    "import numpy as np\n",
    "import matplotlib.pyplot as plt\n",
    "from sklearn.datasets import make_classification\n",
    "from sklearn.model_selection import train_test_split\n",
    "from mlxtend.plotting import plot_decision_regions\n",
    "\n",
    "class PerceptronClassifier:\n",
    "    def __init__(self, weights):\n",
    "        self.weights = weights\n",
    "\n",
    "    def predict(self, X):\n",
    "        # Add a column of ones for the bias term\n",
    "        X = np.insert(X, 0, 1, axis=1)\n",
    "        linear_output = np.dot(X, self.weights)\n",
    "        y_predicted = np.where(linear_output >= 0, 1, 0)\n",
    "        return y_predicted\n",
    "\n",
    "def initialize_weights(n_features):\n",
    "    return np.zeros(n_features + 1)  # Add one for the bias term\n",
    "\n",
    "def predict(X, weights):\n",
    "    # Reshape X to a 2D array if it's 1D\n",
    "    if X.ndim == 1:\n",
    "        X = X.reshape(1, -1)\n",
    "    # Add a bias term at the beginning\n",
    "    X = np.insert(X, 0, 1, axis=1)\n",
    "    linear_output = np.dot(X, weights)\n",
    "    y_predicted = np.where(linear_output >= 0, 1, 0)\n",
    "    return y_predicted\n",
    "\n",
    "\n",
    "def train_perceptron(X, y, learning_rate=0.01, n_iters=100):\n",
    "    n_samples, n_features = X.shape\n",
    "    weights = initialize_weights(n_features)\n",
    "    for _ in range(n_iters):\n",
    "        for idx, x_i in enumerate(X):\n",
    "            # Add a column of ones for the bias term\n",
    "            x_i = np.insert(x_i, 0, 1)\n",
    "            linear_output = np.dot(x_i, weights)\n",
    "            y_predicted = predict(x_i, weights)\n",
    "            update = learning_rate * (y[idx] - y_predicted)\n",
    "            weights += update * x_i\n",
    "    return weights\n",
    "\n",
    "# Step 1: Create a simple dataset\n",
    "X, y = make_classification(n_samples=100, n_features=2, n_informative=2, n_redundant=0,\n",
    "                           n_clusters_per_class=1, class_sep=2.0, random_state=42)\n",
    "\n",
    "# Split the dataset into training and testing sets\n",
    "X_train, X_test, y_train, y_test = train_test_split(X, y, test_size=0.3, random_state=42)\n",
    "\n",
    "# Step 2: Train the perceptron model\n",
    "weights = train_perceptron(X_train, y_train, learning_rate=0.01, n_iters=1000)\n",
    "\n",
    "# Step 3: Create a PerceptronClassifier instance with the trained weights\n",
    "perceptron_classifier = PerceptronClassifier(weights)\n",
    "\n",
    "# Display the decision boundary of the trained perceptron\n",
    "plt.figure(figsize=(10, 6))\n",
    "plot_decision_regions(X_train, y_train, clf=perceptron_classifier)\n",
    "plt.title('Perceptron Decision Boundary')\n",
    "plt.xlabel('Feature 1')\n",
    "plt.ylabel('Feature 2')\n",
    "plt.show()\n"
   ]
  },
  {
   "cell_type": "markdown",
   "id": "4852e99d",
   "metadata": {},
   "source": [
    "## Task 2: Evaluating Perceptron Performance (20 points)\n",
    "\n",
    "\n",
    "**1. Evaluate the performance of the implemented Perceptron using accuracy metric.**\n",
    "\n",
    "\n",
    "**2. Report the accuracy of the Perceptron on both training and testing datasets.**\n"
   ]
  },
  {
   "cell_type": "code",
   "execution_count": null,
   "id": "5f751215",
   "metadata": {},
   "outputs": [],
   "source": [
    "# your code goes here\n"
   ]
  },
  {
   "cell_type": "markdown",
   "id": "098dec3d",
   "metadata": {},
   "source": [
    "  "
   ]
  },
  {
   "cell_type": "markdown",
   "id": "244d1f61",
   "metadata": {},
   "source": [
    "## Task 3: Implementing Logistic Regression (30 points)\n",
    "\n",
    "**1. Use the same dataset as in Task 1 to train and test the Logistic Regression model.**\n",
    "\n",
    "**2. Implement functions for training and predicting using Logistic Regression.**\n",
    "\n",
    "**3. Display the decision boundary of the trained Logistic Regression model.**\n",
    "*for displaying boundary you can use plot_decision_regions() function from the notebook*"
   ]
  },
  {
   "cell_type": "code",
   "execution_count": null,
   "id": "33adea78",
   "metadata": {},
   "outputs": [],
   "source": [
    "# your code goes here\n",
    "\n",
    "\n"
   ]
  },
  {
   "cell_type": "markdown",
   "id": "0640ac50",
   "metadata": {},
   "source": [
    "    "
   ]
  },
  {
   "cell_type": "markdown",
   "id": "7c58aa86",
   "metadata": {},
   "source": [
    "## Task 4: Evaluating Logistic Regression Performance (20 points)\n",
    "\n",
    "**1. Evaluate the performance of the implemented Logistic Regression using accuracy metric.**\n",
    "\n",
    "**2. Report the accuracy of the Logistic Regression on both training and testing datasets.**\n"
   ]
  },
  {
   "cell_type": "code",
   "execution_count": null,
   "id": "27b7a772",
   "metadata": {},
   "outputs": [],
   "source": [
    "# your code goes here\n",
    "\n",
    "\n"
   ]
  },
  {
   "cell_type": "markdown",
   "id": "3eae7f3e",
   "metadata": {},
   "source": [
    "## Bonus Task (Extra 10 points):\n",
    "**Compare the performance of Perceptron and Logistic Regression on a more complex dataset.**\n",
    "**Discuss the reasons behind the observed differences in performance.**"
   ]
  },
  {
   "cell_type": "code",
   "execution_count": null,
   "id": "353b77cf",
   "metadata": {},
   "outputs": [],
   "source": []
  }
 ],
 "metadata": {
  "kernelspec": {
   "display_name": "Python 3 (ipykernel)",
   "language": "python",
   "name": "python3"
  },
  "language_info": {
   "codemirror_mode": {
    "name": "ipython",
    "version": 3
   },
   "file_extension": ".py",
   "mimetype": "text/x-python",
   "name": "python",
   "nbconvert_exporter": "python",
   "pygments_lexer": "ipython3",
   "version": "3.11.4"
  }
 },
 "nbformat": 4,
 "nbformat_minor": 5
}
